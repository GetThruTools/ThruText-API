{
 "cells": [
  {
   "cell_type": "markdown",
   "metadata": {},
   "source": [
    "### Imports"
   ]
  },
  {
   "cell_type": "code",
   "execution_count": null,
   "metadata": {},
   "outputs": [],
   "source": [
    "import os\n",
    "import pandas\n",
    "from AutoDetectSeperator import *\n",
    "import CustomFieldInterp\n",
    "from LoginManager import LoginManager"
   ]
  },
  {
   "cell_type": "markdown",
   "metadata": {},
   "source": [
    "### Log In"
   ]
  },
  {
   "cell_type": "code",
   "execution_count": null,
   "metadata": {},
   "outputs": [],
   "source": [
    "lm = LoginManager()\n",
    "token = lm.terminal_login()"
   ]
  },
  {
   "cell_type": "markdown",
   "metadata": {},
   "source": [
    "### Do the custom field mapping"
   ]
  },
  {
   "cell_type": "code",
   "execution_count": null,
   "metadata": {},
   "outputs": [],
   "source": [
    "directory_to_group = #directory containing files\n",
    "\n",
    "filegroup = [fn for fn in os.listdir(directory_to_group) if fn.endswith('sv')]\n",
    "filegroup.sort()\n",
    "\n",
    "filename = os.path.join(directory_to_group, filegroup[0])\n",
    "\n",
    "cfi = CustomFieldInterp.CustomFieldInterp(debug=True, login_manager=lm)\n",
    "cfi.setup()\n",
    "sep = detect(filename)\n",
    "example_df = pandas.read_csv(filename, sep=sep, encoding='utf-8', dtype=object)\n",
    "custom_field_mapping, critical_field_mapping = cfi.columns_to_mappings(example_df.columns.values)\n"
   ]
  },
  {
   "cell_type": "code",
   "execution_count": null,
   "metadata": {},
   "outputs": [],
   "source": [
    "0"
   ]
  },
  {
   "cell_type": "markdown",
   "metadata": {},
   "source": [
    "### Import ThruText Group"
   ]
  },
  {
   "cell_type": "code",
   "execution_count": null,
   "metadata": {},
   "outputs": [],
   "source": [
    "import ThruTextGroup\n",
    "import time"
   ]
  },
  {
   "cell_type": "markdown",
   "metadata": {},
   "source": [
    "### Relay Group Making"
   ]
  },
  {
   "cell_type": "code",
   "execution_count": null,
   "metadata": {},
   "outputs": [],
   "source": [
    "rg = ThruTextGroup.ThruTextGroup(login_manager=lm)\n",
    "leave_off = -len('.csv')\n",
    "group_number = 1\n",
    "acceptable_wait_time = 30\n",
    "\n",
    "for f in filegroup:\n",
    "    csv_data = []\n",
    "    csv_data.append(example_df.columns.values.tolist())\n",
    "    for index, row in example_df.iterrows():\n",
    "        raw_row = [v if not pandas.isnull(v) else '' for v in row.values]\n",
    "        #you could do row by row processing here\n",
    "        csv_data.append(raw_row)\n",
    "    group_name = f[:leave_off] + '_' + str(group_number).zfill(3)\n",
    "    worked = rg.make_new(name=group_name, \n",
    "            custom_field_mapping=custom_field_mapping, \n",
    "            critical_field_mapping=critical_field_mapping, \n",
    "            csv_data=csv_data)\n",
    "    if not worked:\n",
    "        print(\"Error: failed to make a group \" + str(group_name))\n",
    "        break\n",
    "    else:\n",
    "        print(\"Made group \" + str(group_name) + \" at \" + str(rg.display_url))\n",
    "    time.sleep(acceptable_wait_time)\n",
    "    \n",
    "    "
   ]
  },
  {
   "cell_type": "code",
   "execution_count": null,
   "metadata": {},
   "outputs": [],
   "source": []
  },
  {
   "cell_type": "code",
   "execution_count": null,
   "metadata": {},
   "outputs": [],
   "source": []
  },
  {
   "cell_type": "code",
   "execution_count": null,
   "metadata": {},
   "outputs": [],
   "source": []
  },
  {
   "cell_type": "code",
   "execution_count": null,
   "metadata": {},
   "outputs": [],
   "source": []
  },
  {
   "cell_type": "code",
   "execution_count": null,
   "metadata": {},
   "outputs": [],
   "source": []
  }
 ],
 "metadata": {
  "kernelspec": {
   "display_name": "Python 3",
   "language": "python",
   "name": "python3"
  },
  "language_info": {
   "codemirror_mode": {
    "name": "ipython",
    "version": 3
   },
   "file_extension": ".py",
   "mimetype": "text/x-python",
   "name": "python",
   "nbconvert_exporter": "python",
   "pygments_lexer": "ipython3",
   "version": "3.7.2"
  }
 },
 "nbformat": 4,
 "nbformat_minor": 2
}
